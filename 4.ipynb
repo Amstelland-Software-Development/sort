{
 "cells": [
  {
   "cell_type": "code",
   "execution_count": null,
   "metadata": {},
   "outputs": [],
   "source": [
    "# Sorting algorithms\n",
    "\n",
    "Het sorteren van een lijst met getallen is een veel voorkomend probleem in de informatica. Je hebt misschien wel gebruik gemaakt van ingebouwde functies die dit voor je doen maar wat gebeurt er nu op de achtergrond als `array.sort()` of iets dergelijks aanroept?\n",
    "\n",
    "- Selection Sort\n",
    "- Merge Sort\n",
    "- Insertion Sort\n",
    "- Quick Sort\n",
    "- Bubble Sort\n",
    "\n",
    "https://visualgo.net/en/sorting  \n",
    "https://www.toptal.com/developers/sorting-algorithms"
   ]
  },
  {
   "cell_type": "code",
   "execution_count": null,
   "metadata": {},
   "outputs": [],
   "source": [
    "# 4\n",
    "A = [8, 4, 5, 10, 17, 7, 16, 15, 13, 11]\n",
    " \n",
    "# Traverse through all array elements\n",
    "for i in range(len(A)):\n",
    "  \n",
    " # Find the minimum element in remaining\n",
    " # unsorted array\n",
    " min_idx = i\n",
    " for j in range(i+1, len(A)):\n",
    "  if A[min_idx] > A[j]:\n",
    "   min_idx = j\n",
    "    \n",
    " # Swap the found minimum element with\n",
    " # the first element  \n",
    " A[i], A[min_idx] = A[min_idx], A[i]\n",
    " \n",
    "# Driver code to test above\n",
    "print (\"Sorted array\")\n",
    "for i in range(len(A)):\n",
    " print(\"%d\" %A[i]),"
   ]
  }
 ],
 "metadata": {
  "language_info": {
   "name": "python"
  },
  "orig_nbformat": 4
 },
 "nbformat": 4,
 "nbformat_minor": 2
}
