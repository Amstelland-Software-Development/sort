{
 "cells": [
  {
   "cell_type": "code",
   "execution_count": null,
   "metadata": {},
   "outputs": [],
   "source": [
    "# Sorting algorithms\n",
    "\n",
    "Het sorteren van een lijst met getallen is een veel voorkomend probleem in de informatica. Je hebt misschien wel gebruik gemaakt van ingebouwde functies die dit voor je doen maar wat gebeurt er nu op de achtergrond als `array.sort()` of iets dergelijks aanroept?\n",
    "\n",
    "- Selection Sort\n",
    "- Merge Sort\n",
    "- Insertion Sort\n",
    "- Quick Sort\n",
    "- Bubble Sort\n",
    "\n",
    "https://visualgo.net/en/sorting  \n",
    "https://www.toptal.com/developers/sorting-algorithms"
   ]
  },
  {
   "cell_type": "code",
   "execution_count": null,
   "metadata": {},
   "outputs": [],
   "source": [
    "# 5 \n",
    "def sort(inp_arr):\n",
    "    size = len(inp_arr)\n",
    "    if size > 1:\n",
    "        middle = size // 2\n",
    "        left_arr = inp_arr[:middle]\n",
    "        right_arr = inp_arr[middle:]\n",
    " \n",
    "        sort(left_arr)\n",
    "        sort(right_arr)\n",
    " \n",
    "        p = 0\n",
    "        q = 0\n",
    "        r = 0\n",
    " \n",
    "        left_size = len(left_arr)\n",
    "        right_size = len(right_arr)\n",
    "        while p < left_size and q < right_size:\n",
    "            if left_arr[p] < right_arr[q]:\n",
    "              inp_arr[r] = left_arr[p]\n",
    "              p += 1\n",
    "            else:\n",
    "                inp_arr[r] = right_arr[q]\n",
    "                q += 1\n",
    "             \n",
    "            r += 1\n",
    "\n",
    "        while p < left_size:\n",
    "            inp_arr[r] = left_arr[p]\n",
    "            p += 1\n",
    "            r += 1\n",
    " \n",
    "        while q < right_size:\n",
    "            inp_arr[r]=right_arr[q]\n",
    "            q += 1\n",
    "            r += 1\n",
    " \n",
    "inp_arr = [8, 4, 5, 10, 17, 7, 16, 15, 13, 11]\n",
    "print(\"Input Array:\\n\")\n",
    "print(inp_arr)\n",
    "sort(inp_arr)\n",
    "print(\"Sorted Array:\\n\")\n",
    "print(inp_arr)"
   ]
  }
 ],
 "metadata": {
  "language_info": {
   "name": "python"
  },
  "orig_nbformat": 4
 },
 "nbformat": 4,
 "nbformat_minor": 2
}
