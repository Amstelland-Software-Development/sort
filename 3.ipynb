{
 "cells": [
  {
   "cell_type": "code",
   "execution_count": null,
   "metadata": {},
   "outputs": [],
   "source": [
    "# Sorting algorithms\n",
    "\n",
    "Het sorteren van een lijst met getallen is een veel voorkomend probleem in de informatica. Je hebt misschien wel gebruik gemaakt van ingebouwde functies die dit voor je doen maar wat gebeurt er nu op de achtergrond als `array.sort()` of iets dergelijks aanroept?\n",
    "\n",
    "- Selection Sort\n",
    "- Merge Sort\n",
    "- Insertion Sort\n",
    "- Quick Sort\n",
    "- Bubble Sort\n",
    "\n",
    "https://visualgo.net/en/sorting  \n",
    "https://www.toptal.com/developers/sorting-algorithms"
   ]
  },
  {
   "cell_type": "code",
   "execution_count": null,
   "metadata": {},
   "outputs": [],
   "source": [
    "# 3\n",
    "def partition(arr,low,high):\n",
    "   i = ( low-1 )\n",
    "   pivot = arr[high] # pivot element\n",
    "   for j in range(low , high):\n",
    "      # If current element is smaller\n",
    "      if arr[j] <= pivot:\n",
    "         # increment\n",
    "         i = i+1\n",
    "         arr[i],arr[j] = arr[j],arr[i]\n",
    "   arr[i+1],arr[high] = arr[high],arr[i+1]\n",
    "   return ( i+1 )\n",
    "# sort\n",
    "def sort(arr,low,high):\n",
    "   if low < high:\n",
    "      # index\n",
    "      pi = partition(arr,low,high)\n",
    "      # sort the partitions\n",
    "      sort(arr, low, pi-1)\n",
    "      sort(arr, pi+1, high)\n",
    "# main\n",
    "arr = [2,5,3,8,6,5,4,7]\n",
    "n = len(arr)\n",
    "sort(arr,0,n-1)\n",
    "print (\"Sorted array is:\")\n",
    "for i in range(n):\n",
    "   print (arr[i],end=\" \")"
   ]
  }
 ],
 "metadata": {
  "language_info": {
   "name": "python"
  },
  "orig_nbformat": 4
 },
 "nbformat": 4,
 "nbformat_minor": 2
}
