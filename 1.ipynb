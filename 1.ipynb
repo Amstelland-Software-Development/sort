{
 "cells": [
  {
   "cell_type": "code",
   "execution_count": null,
   "metadata": {},
   "outputs": [],
   "source": [
    "# Sorting algorithms\n",
    "\n",
    "Het sorteren van een lijst met getallen is een veel voorkomend probleem in de informatica. Je hebt misschien wel gebruik gemaakt van ingebouwde functies die dit voor je doen maar wat gebeurt er nu op de achtergrond als `array.sort()` of iets dergelijks aanroept?\n",
    "\n",
    "- Insertion Sort\n",
    "- Bubble Sort\n",
    "- Quick Sort\n",
    "- Selection Sort\n",
    "- Merge Sort\n",
    "\n",
    "https://visualgo.net/en/sorting  \n",
    "https://www.toptal.com/developers/sorting-algorithms"
   ]
  },
  {
   "cell_type": "code",
   "execution_count": 1,
   "metadata": {},
   "outputs": [],
   "source": [
    "# 1\n",
    "def sort(nums): \n",
    "     \n",
    "    for i in range(1, len(nums)):\n",
    "        item = nums[i]\n",
    "         \n",
    "        j = i - 1\n",
    "     \n",
    "        while j >= 0 and nums[j] > item:\n",
    "            nums[j + 1] = nums[j]\n",
    "            j -= 1\n",
    "        nums[j + 1] = item\n",
    " \n",
    "# Verify if it works\n",
    "random_list_of_nums = [8, 4, 5, 10, 17, 7, 16, 15, 13, 11]\n",
    "sort(random_list_of_nums)\n",
    "print(random_list_of_nums)"
   ]
  }
 ],
 "metadata": {
  "interpreter": {
   "hash": "3a76e06d88564acbf8cf554058027d746f1fa443c44e467863615c41c9ba9acf"
  },
  "kernelspec": {
   "display_name": "Python 3.9.2 64-bit",
   "language": "python",
   "name": "python3"
  },
  "language_info": {
   "codemirror_mode": {
    "name": "ipython",
    "version": 3
   },
   "file_extension": ".py",
   "mimetype": "text/x-python",
   "name": "python",
   "nbconvert_exporter": "python",
   "pygments_lexer": "ipython3",
   "version": "3.9.2"
  },
  "orig_nbformat": 4
 },
 "nbformat": 4,
 "nbformat_minor": 2
}
