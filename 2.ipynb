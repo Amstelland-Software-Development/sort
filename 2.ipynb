{
 "cells": [
  {
   "cell_type": "code",
   "execution_count": null,
   "metadata": {},
   "outputs": [],
   "source": [
    "# Sorting algorithms\n",
    "\n",
    "Het sorteren van een lijst met getallen is een veel voorkomend probleem in de informatica. Je hebt misschien wel gebruik gemaakt van ingebouwde functies die dit voor je doen maar wat gebeurt er nu op de achtergrond als `array.sort()` of iets dergelijks aanroept?\n",
    "\n",
    "- Insertion Sort\n",
    "- Bubble Sort\n",
    "- Quick Sort\n",
    "- Selection Sort\n",
    "- Merge Sort\n",
    "\n",
    "https://visualgo.net/en/sorting  \n",
    "https://www.toptal.com/developers/sorting-algorithms"
   ]
  },
  {
   "cell_type": "code",
   "execution_count": null,
   "metadata": {},
   "outputs": [],
   "source": [
    "# 2 \n",
    "def sort(nums): \n",
    "    swapped = True\n",
    "    while swapped:\n",
    "        swapped = False\n",
    "        for i in range(len(nums) - 1):\n",
    "            if nums[i] > nums[i + 1]:\n",
    "                \n",
    "                nums[i], nums[i + 1] = nums[i + 1], nums[i]\n",
    "                \n",
    "                swapped = True\n",
    " \n",
    " \n",
    "# Verify if it works\n",
    "random_list_of_nums = [8, 4, 5, 10, 17, 7, 16, 15, 13, 11]\n",
    "sort(random_list_of_nums)\n",
    "print(random_list_of_nums)"
   ]
  }
 ],
 "metadata": {
  "language_info": {
   "name": "python"
  },
  "orig_nbformat": 4
 },
 "nbformat": 4,
 "nbformat_minor": 2
}
